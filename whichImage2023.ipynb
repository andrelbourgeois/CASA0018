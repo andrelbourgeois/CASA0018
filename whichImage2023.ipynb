{
  "nbformat": 4,
  "nbformat_minor": 0,
  "metadata": {
    "colab": {
      "provenance": [],
      "authorship_tag": "ABX9TyMl/1FvpmsELfzruOUbGWQT",
      "include_colab_link": true
    },
    "kernelspec": {
      "name": "python3",
      "display_name": "Python 3"
    },
    "language_info": {
      "name": "python"
    }
  },
  "cells": [
    {
      "cell_type": "markdown",
      "metadata": {
        "id": "view-in-github",
        "colab_type": "text"
      },
      "source": [
        "<a href=\"https://colab.research.google.com/github/andrelbourgeois/CASA0018/blob/main/whichImage2023.ipynb\" target=\"_parent\"><img src=\"https://colab.research.google.com/assets/colab-badge.svg\" alt=\"Open In Colab\"/></a>"
      ]
    },
    {
      "cell_type": "code",
      "execution_count": null,
      "metadata": {
        "id": "6aE7ev35pcdp",
        "colab": {
          "base_uri": "https://localhost:8080/",
          "height": 786
        },
        "outputId": "a8d9e4d7-ce3e-4abe-90f5-6af658d31491"
      },
      "outputs": [
        {
          "output_type": "stream",
          "name": "stdout",
          "text": [
            "2.9.2\n",
            "shape: (28, 28)\n",
            "label: 8\n",
            "Epoch 1/6\n",
            "1875/1875 [==============================] - 6s 3ms/step - loss: 0.4935 - accuracy: 0.8257\n",
            "Epoch 2/6\n",
            "1875/1875 [==============================] - 6s 3ms/step - loss: 0.3748 - accuracy: 0.8653\n",
            "Epoch 3/6\n",
            "1875/1875 [==============================] - 6s 3ms/step - loss: 0.3368 - accuracy: 0.8768\n",
            "Epoch 4/6\n",
            "1875/1875 [==============================] - 6s 3ms/step - loss: 0.3121 - accuracy: 0.8858\n",
            "Epoch 5/6\n",
            "1875/1875 [==============================] - 6s 3ms/step - loss: 0.2943 - accuracy: 0.8918\n",
            "Epoch 6/6\n",
            "1875/1875 [==============================] - 6s 3ms/step - loss: 0.2807 - accuracy: 0.8962\n",
            "313/313 [==============================] - 1s 2ms/step - loss: 0.3680 - accuracy: 0.8688\n",
            "313/313 [==============================] - 1s 2ms/step\n",
            "0.00000029\n",
            "0.00000000\n",
            "0.00000004\n",
            "0.00000000\n",
            "0.00000002\n",
            "0.00286031\n",
            "0.00000069\n",
            "0.01619998\n",
            "0.00001928\n",
            "0.98091936\n",
            "9\n",
            "[2.8548911e-07 4.9422000e-10 4.4749019e-08 4.3561221e-10 1.8935140e-08\n",
            " 2.8603103e-03 6.8627406e-07 1.6199978e-02 1.9282757e-05 9.8091936e-01]\n"
          ]
        },
        {
          "output_type": "display_data",
          "data": {
            "text/plain": [
              "<Figure size 432x288 with 1 Axes>"
            ],
            "image/png": "[encoded data removed]"
          },
          "metadata": {
            "needs_background": "light"
          }
        }
      ],
      "source": [
        "#import tensorflow\n",
        "import tensorflow as tf\n",
        "\n",
        "#import a lib to help display an image\n",
        "import matplotlib.pyplot as plt\n",
        "\n",
        "#print tf version\n",
        "print(tf.__version__)\n",
        "#create a variable that points to mnist fashion data using the tf.keras API\n",
        "mnist = tf.keras.datasets.fashion_mnist\n",
        "\n",
        "#create two list and load a training and a testing list with mnist fashion data\n",
        "(training_images, training_labels), (test_images, test_labels) = mnist.load_data()\n",
        "\n",
        "#set a sample variable\n",
        "sample = 100;\n",
        "\n",
        "#print shape of sample variable from training images list\n",
        "print(\"shape:\", training_images[sample].shape)\n",
        "\n",
        "plt.imshow(training_images[sample], cmap=\"gray\")\n",
        "print(\"label:\", training_labels[sample])\n",
        "\n",
        "#to normalize the data the datasets can be divided over 255.0\n",
        "#this is because each pixel in the image can have a value between 0 and 255\n",
        "#this process generally speeds up learning and leads to faster convergence\n",
        "training_images = training_images / 255.0\n",
        "test_images = test_images / 255.0\n",
        "\n",
        "#building the model\n",
        "\n",
        "#to create the sequence of layers in the model we use \"Sequential\"\n",
        "#the first layer - Flatten - takes the 28x28 image and turns it into a 1D set\n",
        "#the first layer should be the same as your data\n",
        "model = tf.keras.models.Sequential([tf.keras.layers.Flatten(input_shape=(28,28)),\n",
        "                                    #second - Dense - contains 128 neurons\n",
        "                                    # relu (rectified linear unit) - converts negative values to 0\n",
        "                                    # helps to keep us between 0 and 1\n",
        "                                    tf.keras.layers.Dense(128, activation=tf.nn.relu),\n",
        "                                    #third - Dense - contains 10 neurons; one for each fashion category\n",
        "                                    #note the input to the model is a 28x28 image and the output is one of 10 neurons which relates to the 10 fashion categories.\n",
        "                                    #softmax - sets highest probability in neuron layer to 1 and rest to 0\n",
        "                                    #makes it easier to find most likely solution\n",
        "                                    #the number of neurons in the last layer\n",
        "                                    #should match the number of classes you are classifying for\n",
        "                                    tf.keras.layers.Dense(10, activation=tf.nn.softmax)\n",
        "                                    ])\n",
        "\n",
        "#compile with an optimizer and a loss function\n",
        "model.compile(optimizer = tf.keras.optimizers.Adam(),\n",
        "              loss = \"sparse_categorical_crossentropy\",\n",
        "              metrics = [\"accuracy\"])\n",
        "\n",
        "#train model by calling model.fit (train with training data)\n",
        "model.fit(training_images, training_labels, epochs=6)\n",
        "\n",
        "#evaluate model by calling model.evaluate (evaluate with testing data)\n",
        "model.evaluate(test_images, test_labels)\n",
        "\n",
        "classifications = model.predict(test_images)\n",
        "\n",
        "for x in classifications[0]:\n",
        "  print(\"{:0.8f}\".format(x))\n",
        "\n",
        "  \n",
        "print(test_labels[0])\n",
        "print(classifications[0])\n"
      ]
    }
  ]
}